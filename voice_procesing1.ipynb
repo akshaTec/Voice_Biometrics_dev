{
 "cells": [
  {
   "cell_type": "code",
   "execution_count": 112,
   "metadata": {},
   "outputs": [],
   "source": [
    "import librosa\n",
    "import numpy as np\n",
    "import tensorflow as tf\n",
    "from sklearn.preprocessing import LabelEncoder\n",
    "from sklearn.model_selection import train_test_split\n",
    "from tensorflow.keras.models import Sequential\n",
    "from tensorflow.keras.layers import Dense, Dropout\n",
    "import os"
   ]
  },
  {
   "cell_type": "code",
   "execution_count": 113,
   "metadata": {},
   "outputs": [],
   "source": [
    "import soundfile as sf\n",
    "import matplotlib.pyplot as plt\n"
   ]
  },
  {
   "cell_type": "markdown",
   "metadata": {},
   "source": [
    "## Combine 120 sound files to one"
   ]
  },
  {
   "cell_type": "code",
   "execution_count": 114,
   "metadata": {},
   "outputs": [],
   "source": [
    "num_file_to_combine = 120\n",
    "\n",
    "datset_path = \"16000_pcm_speeches\"\n",
    "output_path = \"combined_voice\"\n",
    "\n",
    "speaker_folders = [\n",
    "    \"Benjamin_Netanyau\",\n",
    "    \"Jens_Stoltenberg\",\n",
    "    \"Julia_Gillard\",\n",
    "    \"Magaret_Tarcher\",\n",
    "    \"Nelson_Mandela\"\n",
    "]\n",
    "\n",
    "# for speaker_f in speaker_folders:\n",
    "#     speaker_path = os.path.join(datset_path, speaker_f)\n",
    "    \n",
    "#     #list the first 120 .wav files\n",
    "#     wave_files = [f\"{i}.wav\" for i in range(num_file_to_combine)]\n",
    "\n",
    "#     #combine the first 120 .wav files\n",
    "#     combined_wave = []\n",
    "#     for wave_file in wave_files:\n",
    "#         wave, sr = librosa.load(os.path.join(speaker_path, wave_file), sr=None)\n",
    "#         combined_wave.extend(wave)\n",
    "\n",
    "#     #save the combined wave\n",
    "#     speaker_output_path = os.path.join(output_path, f\"{speaker_f}_combined.wav\")\n",
    "#     sf.write(speaker_output_path, np.array(combined_wave), sr)\n"
   ]
  },
  {
   "cell_type": "markdown",
   "metadata": {},
   "source": [
    "## Data visualization"
   ]
  },
  {
   "cell_type": "code",
   "execution_count": 115,
   "metadata": {},
   "outputs": [],
   "source": [
    "# import librosa.display\n",
    "\n",
    "# def plot_audio_feature(audio_path):\n",
    "#     y, sr = librosa.load(audio_path, sr=None)\n",
    "\n",
    "#     speaker_name = os.path.basename(audio_path).split('_')[0]\n",
    "\n",
    "\n",
    "#     plt.figure(figsize=(15, 10))\n",
    "#     plt.subplot(3, 1, 1)\n",
    "#     librosa.display.waveshow(y, sr=sr)\n",
    "#     plt.title(f'Waveform - {speaker_name}')\n",
    "\n",
    "#     plt.subplot(3, 1, 2)\n",
    "#     mfccs = librosa.feature.mfcc(y=y, sr=sr, n_mfcc=13)\n",
    "#     librosa.display.specshow(mfccs, sr=sr, x_axis='time')\n",
    "#     plt.title(f'MFCC - {speaker_name}')\n",
    "\n",
    "#     plt.subplot(3, 1, 3)\n",
    "#     mel_spectrogram = librosa.feature.melspectrogram(y=y, sr=sr)\n",
    "#     librosa.display.specshow(mel_spectrogram, sr=sr, x_axis='time')\n",
    "#     plt.title(f'Mel Spectrogram - {speaker_name}')\n",
    "\n",
    "#     plt.tight_layout()\n",
    "#     plt.show()\n",
    "\n",
    "\n",
    "# audio_path= [\n",
    "#     \"combined_voice\\Benjamin_Netanyau_combined.wav\",\n",
    "#     \"combined_voice\\Jens_Stoltenberg_combined.wav\",\n",
    "# ]\n",
    "\n",
    "\n",
    "# for audio in audio_path:\n",
    "#     plot_audio_feature(audio)\n",
    "    \n"
   ]
  },
  {
   "cell_type": "markdown",
   "metadata": {},
   "source": [
    "## Feature Extraction"
   ]
  },
  {
   "cell_type": "code",
   "execution_count": 116,
   "metadata": {},
   "outputs": [],
   "source": [
    "from sklearn.preprocessing import StandardScaler"
   ]
  },
  {
   "cell_type": "code",
   "execution_count": 117,
   "metadata": {},
   "outputs": [],
   "source": [
    "\n",
    "def feature_extraction(parent_dir, speaker_folders):\n",
    "    features = []\n",
    "    labels = []\n",
    "\n",
    "    for i, speaker in enumerate(speaker_folders):\n",
    "        speaker_folder_path = os.path.join(parent_dir, speaker)\n",
    "\n",
    "        for file_name in os.listdir(speaker_folder_path):\n",
    "            if file_name.endswith(\".wav\"):\n",
    "                file_path = os.path.join(speaker_folder_path,file_name)\n",
    "                audio , sr = librosa.load(file_path , sr= None, duration=1)\n",
    "                mfccs = librosa.feature.mfcc(y=audio, sr = sr, n_mfcc= 13) \n",
    "                ## NO. OF MFCCS WE NEED\n",
    "                mfccs = StandardScaler().fit_transform(mfccs)\n",
    "                features.append(mfccs.T)\n",
    "                labels.append(i)\n",
    "\n",
    "    \n",
    "    return np.array(features), np.array(labels)\n",
    "\n",
    "\n",
    "X , Y = feature_extraction(datset_path, speaker_folders)\n"
   ]
  },
  {
   "cell_type": "code",
   "execution_count": 187,
   "metadata": {},
   "outputs": [
    {
     "name": "stdout",
     "output_type": "stream",
     "text": [
      "(7501, 32, 13)\n",
      "(7501,)\n",
      "(32, 13)\n",
      "()\n"
     ]
    }
   ],
   "source": [
    "#what was the time duration of the audio file in seconds\n",
    "\n",
    "print(X.shape)\n",
    "print(Y.shape)\n",
    "\n",
    "print(X[0].shape)\n",
    "\n",
    "\n"
   ]
  },
  {
   "cell_type": "code",
   "execution_count": 118,
   "metadata": {},
   "outputs": [
    {
     "name": "stdout",
     "output_type": "stream",
     "text": [
      "[[[-3.4641016   0.2887172   0.28871483 ...  0.2886389   0.2886224\n",
      "    0.2886044 ]\n",
      "  [-3.4641016   0.2886977   0.28869638 ...  0.2886557   0.28864682\n",
      "    0.2886371 ]\n",
      "  [-3.4641018   0.28869462  0.28869352 ...  0.28865835  0.2886507\n",
      "    0.28864226]\n",
      "  ...\n",
      "  [-3.3067386   1.0927988   0.09423477 ... -0.01679934  0.06416836\n",
      "   -0.01576676]\n",
      "  [-3.302511    1.1125711   0.11559542 ...  0.02531367  0.07413579\n",
      "   -0.01616776]\n",
      "  [-3.320979    1.0881165   0.1504413  ...  0.02759937  0.14088126\n",
      "    0.07228283]]\n",
      "\n",
      " [[-3.3293808   1.1152196   0.15280247 ...  0.04381237  0.10148772\n",
      "    0.04075786]\n",
      "  [-3.2763088   1.216366    0.11081342 ...  0.0041197   0.03439333\n",
      "    0.02838666]\n",
      "  [-3.2889938   1.1915864   0.14888133 ...  0.00728869  0.05132583\n",
      "    0.04958135]\n",
      "  ...\n",
      "  [-0.62854373  2.531994   -2.2210534  ...  0.2865067   0.04549608\n",
      "   -0.5743097 ]\n",
      "  [-0.30689606  2.5076501  -2.3356664  ...  0.04502293 -0.01954037\n",
      "   -0.61852497]\n",
      "  [-0.8376341   2.6435595  -1.965699   ... -0.21581315 -0.09344908\n",
      "   -0.22761108]]\n",
      "\n",
      " [[-3.391186    0.85193     0.15204723 ...  0.10529847  0.11792437\n",
      "    0.07892857]\n",
      "  [-3.3640027   0.9392708   0.13803728 ...  0.08801639  0.14030038\n",
      "    0.05313504]\n",
      "  [-3.3617914   0.9606065   0.15223233 ...  0.12215262  0.10986522\n",
      "    0.0252382 ]\n",
      "  ...\n",
      "  [-0.5299546   3.2551696  -1.1793699  ...  0.15022968 -0.09319184\n",
      "   -0.42619193]\n",
      "  [-0.49791047  3.1072626  -1.488032   ...  0.19137223 -0.22295104\n",
      "   -0.46727   ]\n",
      "  [-1.1591502   2.9403806  -1.4907947  ...  0.34166092 -0.12188562\n",
      "   -0.52411866]]\n",
      "\n",
      " ...\n",
      "\n",
      " [[-2.7843096   0.8465393   1.7510035  ... -0.31848827 -0.4586052\n",
      "   -0.43417627]\n",
      "  [-1.0817568   1.1900872   2.1051202  ... -0.20705909 -0.83582634\n",
      "   -0.47524357]\n",
      "  [-0.9410658   1.0625297   1.6936425  ...  0.10115342 -0.66749656\n",
      "   -0.4550564 ]\n",
      "  ...\n",
      "  [-1.3487918   3.0063689   0.68055797 ... -0.32450598 -0.2018265\n",
      "   -0.38193855]\n",
      "  [-0.8215967   3.0960805   0.7066512  ... -0.3150821  -0.06484853\n",
      "   -0.52738357]\n",
      "  [-1.2189155   3.0031497   0.8420327  ... -0.30074903 -0.08541968\n",
      "   -0.5355698 ]]\n",
      "\n",
      " [[-1.6132866   2.8411863   0.48644257 ... -0.2651664  -0.16543137\n",
      "   -0.49040663]\n",
      "  [-1.2665956   2.9363644   0.51032966 ... -0.19753084 -0.31809488\n",
      "   -0.6121043 ]\n",
      "  [-2.0953624   2.6540196   0.67026496 ... -0.07352979 -0.10958463\n",
      "   -0.37256977]\n",
      "  ...\n",
      "  [-2.4784057   0.8403307   2.1022487  ... -0.57866526 -0.3444611\n",
      "   -0.54862785]\n",
      "  [-2.4653552   0.91058457  2.0654683  ... -0.5492167  -0.2606853\n",
      "   -0.54941946]\n",
      "  [-2.7293272   0.8806917   1.8577981  ... -0.41077608 -0.29948792\n",
      "   -0.33072928]]\n",
      "\n",
      " [[-2.9449472   0.71313244  1.7835549  ... -0.17295386 -0.01841931\n",
      "   -0.30061665]\n",
      "  [-2.535658    0.8114947   2.1520565  ... -0.4341771  -0.14187329\n",
      "   -0.47331777]\n",
      "  [-2.4831238   0.99069846  2.0988884  ... -0.6372918  -0.25400728\n",
      "   -0.59772944]\n",
      "  ...\n",
      "  [-2.33813     1.0614202   1.9248087  ... -0.8143146  -0.41907543\n",
      "   -0.5688187 ]\n",
      "  [-2.1957178   1.1309824   1.9723836  ... -0.7473016  -0.5169136\n",
      "   -0.59678316]\n",
      "  [-2.5235083   0.98432183  1.7935514  ... -0.47970805 -0.3282281\n",
      "   -0.41254735]]]\n"
     ]
    }
   ],
   "source": [
    "print(X)"
   ]
  },
  {
   "cell_type": "markdown",
   "metadata": {},
   "source": [
    "## Train n Test split"
   ]
  },
  {
   "cell_type": "code",
   "execution_count": 119,
   "metadata": {},
   "outputs": [],
   "source": [
    "from sklearn.preprocessing import LabelEncoder\n"
   ]
  },
  {
   "cell_type": "code",
   "execution_count": 185,
   "metadata": {},
   "outputs": [
    {
     "data": {
      "text/plain": [
       "(7501, 32, 13)"
      ]
     },
     "execution_count": 185,
     "metadata": {},
     "output_type": "execute_result"
    }
   ],
   "source": [
    "X.shape"
   ]
  },
  {
   "cell_type": "code",
   "execution_count": 222,
   "metadata": {},
   "outputs": [
    {
     "name": "stdout",
     "output_type": "stream",
     "text": [
      "Training Data Shape: (150, 32, 13)\n",
      "Test Data Shape: (7351, 32, 13)\n"
     ]
    }
   ],
   "source": [
    "\n",
    "label_encoder = LabelEncoder()\n",
    "Y= label_encoder.fit_transform(Y)\n",
    "label_encoder.classes_= np.array(speaker_folders)\n",
    "\n",
    "X_train, X_test , Y_train , Y_test = train_test_split(X,Y ,test_size= 0.98 , random_state= 42)\n",
    "\n",
    "print(\"Training Data Shape:\", X_train.shape)\n",
    "print(\"Test Data Shape:\", X_test.shape)"
   ]
  },
  {
   "cell_type": "markdown",
   "metadata": {},
   "source": [
    "## Trying a basic SVM model"
   ]
  },
  {
   "cell_type": "code",
   "execution_count": 223,
   "metadata": {},
   "outputs": [],
   "source": [
    "# from sklearn.svm import SVC\n",
    "\n",
    "# X_train_flat= X_train.reshape(X_train.shape[0],-1)\n",
    "# X_test_flat= X_test.reshape(X_test.shape[0],-1)\n",
    "\n",
    "\n",
    "# svm_classifier = SVC(kernel='rbf', C=1.0, gamma='scale')\n",
    "# svm_classifier.fit(X_train_flat, Y_train)\n",
    "\n"
   ]
  },
  {
   "cell_type": "code",
   "execution_count": 224,
   "metadata": {},
   "outputs": [],
   "source": [
    "from sklearn.metrics import accuracy_score, classification_report, confusion_matrix\n",
    "\n",
    "# Y_predict = svm_classifier.predict(X_test_flat)\n",
    "\n",
    "# class_report = classification_report(Y_predict,Y_test)\n",
    "# print(class_report)\n"
   ]
  },
  {
   "cell_type": "code",
   "execution_count": 225,
   "metadata": {},
   "outputs": [],
   "source": [
    "# confusion_matrix = confusion_matrix(Y_test, Y_predict)\n",
    "# print(confusion_matrix)"
   ]
  },
  {
   "cell_type": "code",
   "execution_count": 226,
   "metadata": {},
   "outputs": [],
   "source": [
    "import seaborn as sns\n",
    "\n",
    "# # Plotting the confusion matrix\n",
    "# plt.figure(figsize=(10, 7))\n",
    "# sns.heatmap(confusion_matrix, annot=True, fmt='d', xticklabels=speaker_folders, yticklabels=speaker_folders)\n",
    "# plt.xlabel('Predicted')\n",
    "# plt.ylabel('Actual')\n",
    "# plt.title('Confusion Matrix')\n",
    "\n",
    "# plt.show()"
   ]
  },
  {
   "cell_type": "markdown",
   "metadata": {},
   "source": [
    "## Trying with basic neural network"
   ]
  },
  {
   "cell_type": "code",
   "execution_count": 227,
   "metadata": {},
   "outputs": [],
   "source": [
    "from tensorflow.keras.models import Sequential\n",
    "from tensorflow.keras import layers\n",
    "from tensorflow.keras.layers import Dense, Dropout"
   ]
  },
  {
   "cell_type": "code",
   "execution_count": 228,
   "metadata": {},
   "outputs": [],
   "source": [
    "#do to_categorical for Y_train and Y_test\n",
    "Y_train = tf.keras.utils.to_categorical(Y_train)\n",
    "Y_test = tf.keras.utils.to_categorical(Y_test)\n"
   ]
  },
  {
   "cell_type": "code",
   "execution_count": 229,
   "metadata": {},
   "outputs": [
    {
     "data": {
      "text/plain": [
       "(150, 32, 13)"
      ]
     },
     "execution_count": 229,
     "metadata": {},
     "output_type": "execute_result"
    }
   ],
   "source": [
    "X_train.shape"
   ]
  },
  {
   "cell_type": "code",
   "execution_count": 230,
   "metadata": {},
   "outputs": [
    {
     "data": {
      "text/plain": [
       "array([[0., 0., 0., 1., 0.],\n",
       "       [0., 0., 0., 0., 1.],\n",
       "       [0., 0., 1., 0., 0.],\n",
       "       [0., 0., 0., 0., 1.],\n",
       "       [0., 0., 0., 1., 0.]], dtype=float32)"
      ]
     },
     "execution_count": 230,
     "metadata": {},
     "output_type": "execute_result"
    }
   ],
   "source": [
    "Y_train.shape\n",
    "Y_train[:5]"
   ]
  },
  {
   "cell_type": "code",
   "execution_count": 231,
   "metadata": {},
   "outputs": [
    {
     "name": "stdout",
     "output_type": "stream",
     "text": [
      "Model: \"sequential_16\"\n",
      "_________________________________________________________________\n",
      " Layer (type)                Output Shape              Param #   \n",
      "=================================================================\n",
      " flatten_16 (Flatten)        (None, 416)               0         \n",
      "                                                                 \n",
      " dense_46 (Dense)            (None, 416)               173472    \n",
      "                                                                 \n",
      " batch_normalization_27 (Bat  (None, 416)              1664      \n",
      " chNormalization)                                                \n",
      "                                                                 \n",
      " dropout_12 (Dropout)        (None, 416)               0         \n",
      "                                                                 \n",
      " dense_47 (Dense)            (None, 5)                 2085      \n",
      "                                                                 \n",
      "=================================================================\n",
      "Total params: 177,221\n",
      "Trainable params: 176,389\n",
      "Non-trainable params: 832\n",
      "_________________________________________________________________\n"
     ]
    }
   ],
   "source": [
    "#crate a simple fully connected neural network for speaker recognition\n",
    "\n",
    "model = Sequential([\n",
    "    layers.Input(shape=(X_train.shape[1], X_train.shape[2])),\n",
    "    layers.Flatten(),    \n",
    "    layers.Dense(416, activation='relu'),\n",
    "    layers.BatchNormalization(),\n",
    "    layers.Dropout(0.5),\n",
    "    layers.Dense(5, activation='softmax')   \n",
    "\n",
    "])\n",
    "\n",
    "model.compile(optimizer='adam', loss='categorical_crossentropy', metrics=['accuracy'])\n",
    "\n",
    "model.summary()\n"
   ]
  },
  {
   "cell_type": "code",
   "execution_count": 232,
   "metadata": {},
   "outputs": [],
   "source": [
    "from tensorflow.keras.callbacks import EarlyStopping\n",
    "early_stopping = EarlyStopping(monitor='val_loss', mode='min', patience=20, restore_best_weights=True)"
   ]
  },
  {
   "cell_type": "code",
   "execution_count": 233,
   "metadata": {},
   "outputs": [
    {
     "name": "stdout",
     "output_type": "stream",
     "text": [
      "Epoch 1/100\n",
      "5/5 [==============================] - 1s 242ms/step - loss: 1.8845 - accuracy: 0.3533 - val_loss: 1.0544 - val_accuracy: 0.6005\n",
      "Epoch 2/100\n",
      "5/5 [==============================] - 1s 149ms/step - loss: 0.7796 - accuracy: 0.7400 - val_loss: 0.9528 - val_accuracy: 0.6800\n",
      "Epoch 3/100\n",
      "5/5 [==============================] - 1s 150ms/step - loss: 0.5224 - accuracy: 0.8133 - val_loss: 0.9726 - val_accuracy: 0.6787\n",
      "Epoch 4/100\n",
      "5/5 [==============================] - 1s 148ms/step - loss: 0.3114 - accuracy: 0.8733 - val_loss: 0.9769 - val_accuracy: 0.6826\n",
      "Epoch 5/100\n",
      "5/5 [==============================] - 1s 144ms/step - loss: 0.2619 - accuracy: 0.9200 - val_loss: 0.9720 - val_accuracy: 0.6938\n",
      "Epoch 6/100\n",
      "5/5 [==============================] - 1s 146ms/step - loss: 0.1865 - accuracy: 0.9333 - val_loss: 1.0009 - val_accuracy: 0.6949\n",
      "Epoch 7/100\n",
      "5/5 [==============================] - 1s 148ms/step - loss: 0.2193 - accuracy: 0.9333 - val_loss: 0.9286 - val_accuracy: 0.6950\n",
      "Epoch 8/100\n",
      "5/5 [==============================] - 1s 146ms/step - loss: 0.1921 - accuracy: 0.9400 - val_loss: 0.8784 - val_accuracy: 0.6987\n",
      "Epoch 9/100\n",
      "5/5 [==============================] - 1s 144ms/step - loss: 0.1327 - accuracy: 0.9667 - val_loss: 0.8724 - val_accuracy: 0.7037\n",
      "Epoch 10/100\n",
      "5/5 [==============================] - 1s 145ms/step - loss: 0.1040 - accuracy: 0.9600 - val_loss: 0.8731 - val_accuracy: 0.7087\n",
      "Epoch 11/100\n",
      "5/5 [==============================] - 1s 145ms/step - loss: 0.1391 - accuracy: 0.9533 - val_loss: 0.9165 - val_accuracy: 0.7172\n",
      "Epoch 12/100\n",
      "5/5 [==============================] - 1s 146ms/step - loss: 0.1725 - accuracy: 0.9533 - val_loss: 0.8752 - val_accuracy: 0.7135\n",
      "Epoch 13/100\n",
      "5/5 [==============================] - 1s 143ms/step - loss: 0.1588 - accuracy: 0.9467 - val_loss: 0.8155 - val_accuracy: 0.7221\n",
      "Epoch 14/100\n",
      "5/5 [==============================] - 1s 149ms/step - loss: 0.1029 - accuracy: 0.9733 - val_loss: 0.7824 - val_accuracy: 0.7313\n",
      "Epoch 15/100\n",
      "5/5 [==============================] - 1s 144ms/step - loss: 0.1227 - accuracy: 0.9600 - val_loss: 0.7891 - val_accuracy: 0.7292\n",
      "Epoch 16/100\n",
      "5/5 [==============================] - 1s 142ms/step - loss: 0.0951 - accuracy: 0.9800 - val_loss: 0.8256 - val_accuracy: 0.7343\n",
      "Epoch 17/100\n",
      "5/5 [==============================] - 1s 150ms/step - loss: 0.1173 - accuracy: 0.9600 - val_loss: 0.7501 - val_accuracy: 0.7399\n",
      "Epoch 18/100\n",
      "5/5 [==============================] - 1s 146ms/step - loss: 0.0701 - accuracy: 0.9733 - val_loss: 0.7373 - val_accuracy: 0.7388\n",
      "Epoch 19/100\n",
      "5/5 [==============================] - 1s 143ms/step - loss: 0.0665 - accuracy: 0.9867 - val_loss: 0.7413 - val_accuracy: 0.7417\n",
      "Epoch 20/100\n",
      "5/5 [==============================] - 1s 143ms/step - loss: 0.0531 - accuracy: 0.9867 - val_loss: 0.7570 - val_accuracy: 0.7385\n",
      "Epoch 21/100\n",
      "5/5 [==============================] - 1s 144ms/step - loss: 0.0303 - accuracy: 0.9933 - val_loss: 0.7667 - val_accuracy: 0.7436\n",
      "Epoch 22/100\n",
      "5/5 [==============================] - 1s 144ms/step - loss: 0.0578 - accuracy: 0.9933 - val_loss: 0.7019 - val_accuracy: 0.7517\n",
      "Epoch 23/100\n",
      "5/5 [==============================] - 1s 139ms/step - loss: 0.0430 - accuracy: 0.9933 - val_loss: 0.6274 - val_accuracy: 0.7698\n",
      "Epoch 24/100\n",
      "5/5 [==============================] - 1s 143ms/step - loss: 0.0600 - accuracy: 0.9667 - val_loss: 0.6199 - val_accuracy: 0.7700\n",
      "Epoch 25/100\n",
      "5/5 [==============================] - 1s 146ms/step - loss: 0.0650 - accuracy: 0.9867 - val_loss: 0.6277 - val_accuracy: 0.7815\n",
      "Epoch 26/100\n",
      "5/5 [==============================] - 1s 146ms/step - loss: 0.0310 - accuracy: 1.0000 - val_loss: 0.6312 - val_accuracy: 0.7860\n",
      "Epoch 27/100\n",
      "5/5 [==============================] - 1s 144ms/step - loss: 0.0329 - accuracy: 0.9933 - val_loss: 0.6110 - val_accuracy: 0.7932\n",
      "Epoch 28/100\n",
      "5/5 [==============================] - 1s 146ms/step - loss: 0.0649 - accuracy: 0.9867 - val_loss: 0.5586 - val_accuracy: 0.8070\n",
      "Epoch 29/100\n",
      "5/5 [==============================] - 1s 145ms/step - loss: 0.0487 - accuracy: 0.9867 - val_loss: 0.6221 - val_accuracy: 0.7946\n",
      "Epoch 30/100\n",
      "5/5 [==============================] - 1s 143ms/step - loss: 0.0331 - accuracy: 0.9933 - val_loss: 0.7204 - val_accuracy: 0.7757\n",
      "Epoch 31/100\n",
      "5/5 [==============================] - 1s 141ms/step - loss: 0.0499 - accuracy: 0.9933 - val_loss: 0.6710 - val_accuracy: 0.7796\n",
      "Epoch 32/100\n",
      "5/5 [==============================] - 1s 143ms/step - loss: 0.0143 - accuracy: 1.0000 - val_loss: 0.6114 - val_accuracy: 0.7928\n",
      "Epoch 33/100\n",
      "5/5 [==============================] - 1s 146ms/step - loss: 0.0644 - accuracy: 0.9733 - val_loss: 0.5989 - val_accuracy: 0.7915\n",
      "Epoch 34/100\n",
      "5/5 [==============================] - 1s 144ms/step - loss: 0.0191 - accuracy: 1.0000 - val_loss: 0.6469 - val_accuracy: 0.7780\n",
      "Epoch 35/100\n",
      "5/5 [==============================] - 1s 145ms/step - loss: 0.0296 - accuracy: 0.9933 - val_loss: 0.6672 - val_accuracy: 0.7830\n",
      "Epoch 36/100\n",
      "5/5 [==============================] - 1s 142ms/step - loss: 0.0484 - accuracy: 0.9733 - val_loss: 0.6125 - val_accuracy: 0.7946\n",
      "Epoch 37/100\n",
      "5/5 [==============================] - 1s 145ms/step - loss: 0.0245 - accuracy: 0.9933 - val_loss: 0.5829 - val_accuracy: 0.8068\n",
      "Epoch 38/100\n",
      "5/5 [==============================] - 1s 142ms/step - loss: 0.0212 - accuracy: 1.0000 - val_loss: 0.5923 - val_accuracy: 0.8121\n",
      "Epoch 39/100\n",
      "5/5 [==============================] - 1s 142ms/step - loss: 0.0371 - accuracy: 0.9867 - val_loss: 0.5796 - val_accuracy: 0.8155\n",
      "Epoch 40/100\n",
      "5/5 [==============================] - 1s 150ms/step - loss: 0.0149 - accuracy: 1.0000 - val_loss: 0.5858 - val_accuracy: 0.8072\n",
      "Epoch 41/100\n",
      "5/5 [==============================] - 1s 144ms/step - loss: 0.0340 - accuracy: 0.9933 - val_loss: 0.5794 - val_accuracy: 0.8051\n",
      "Epoch 42/100\n",
      "5/5 [==============================] - 1s 142ms/step - loss: 0.0463 - accuracy: 0.9800 - val_loss: 0.5550 - val_accuracy: 0.8161\n",
      "Epoch 43/100\n",
      "5/5 [==============================] - 1s 142ms/step - loss: 0.0214 - accuracy: 0.9933 - val_loss: 0.6183 - val_accuracy: 0.7973\n",
      "Epoch 44/100\n",
      "5/5 [==============================] - 1s 145ms/step - loss: 0.0362 - accuracy: 0.9867 - val_loss: 0.5430 - val_accuracy: 0.8170\n",
      "Epoch 45/100\n",
      "5/5 [==============================] - 1s 144ms/step - loss: 0.0352 - accuracy: 0.9867 - val_loss: 0.5546 - val_accuracy: 0.8146\n",
      "Epoch 46/100\n",
      "5/5 [==============================] - 1s 147ms/step - loss: 0.0092 - accuracy: 1.0000 - val_loss: 0.5595 - val_accuracy: 0.8142\n",
      "Epoch 47/100\n",
      "5/5 [==============================] - 1s 142ms/step - loss: 0.0276 - accuracy: 0.9933 - val_loss: 0.5495 - val_accuracy: 0.8147\n",
      "Epoch 48/100\n",
      "5/5 [==============================] - 1s 145ms/step - loss: 0.0328 - accuracy: 0.9867 - val_loss: 0.5593 - val_accuracy: 0.8188\n",
      "Epoch 49/100\n",
      "5/5 [==============================] - 1s 145ms/step - loss: 0.0526 - accuracy: 0.9800 - val_loss: 0.5087 - val_accuracy: 0.8285\n",
      "Epoch 50/100\n",
      "5/5 [==============================] - 1s 143ms/step - loss: 0.0172 - accuracy: 1.0000 - val_loss: 0.5016 - val_accuracy: 0.8313\n",
      "Epoch 51/100\n",
      "5/5 [==============================] - 1s 145ms/step - loss: 0.0371 - accuracy: 0.9800 - val_loss: 0.4770 - val_accuracy: 0.8355\n",
      "Epoch 52/100\n",
      "5/5 [==============================] - 1s 143ms/step - loss: 0.0088 - accuracy: 1.0000 - val_loss: 0.4725 - val_accuracy: 0.8350\n",
      "Epoch 53/100\n",
      "5/5 [==============================] - 1s 147ms/step - loss: 0.0095 - accuracy: 1.0000 - val_loss: 0.4716 - val_accuracy: 0.8351\n",
      "Epoch 54/100\n",
      "5/5 [==============================] - 1s 145ms/step - loss: 0.0216 - accuracy: 0.9933 - val_loss: 0.4660 - val_accuracy: 0.8391\n",
      "Epoch 55/100\n",
      "5/5 [==============================] - 1s 143ms/step - loss: 0.0135 - accuracy: 1.0000 - val_loss: 0.4749 - val_accuracy: 0.8376\n",
      "Epoch 56/100\n",
      "5/5 [==============================] - 1s 145ms/step - loss: 0.0191 - accuracy: 1.0000 - val_loss: 0.5069 - val_accuracy: 0.8321\n",
      "Epoch 57/100\n",
      "5/5 [==============================] - 1s 142ms/step - loss: 0.0330 - accuracy: 0.9867 - val_loss: 0.5310 - val_accuracy: 0.8286\n",
      "Epoch 58/100\n",
      "5/5 [==============================] - 1s 142ms/step - loss: 0.0163 - accuracy: 1.0000 - val_loss: 0.5494 - val_accuracy: 0.8221\n",
      "Epoch 59/100\n",
      "5/5 [==============================] - 1s 142ms/step - loss: 0.0326 - accuracy: 0.9867 - val_loss: 0.4989 - val_accuracy: 0.8346\n",
      "Epoch 60/100\n",
      "5/5 [==============================] - 1s 143ms/step - loss: 0.0205 - accuracy: 0.9933 - val_loss: 0.4958 - val_accuracy: 0.8334\n",
      "Epoch 61/100\n",
      "5/5 [==============================] - 1s 144ms/step - loss: 0.0128 - accuracy: 1.0000 - val_loss: 0.4992 - val_accuracy: 0.8343\n",
      "Epoch 62/100\n",
      "5/5 [==============================] - 1s 143ms/step - loss: 0.0086 - accuracy: 1.0000 - val_loss: 0.5166 - val_accuracy: 0.8321\n",
      "Epoch 63/100\n",
      "5/5 [==============================] - 1s 140ms/step - loss: 0.0080 - accuracy: 1.0000 - val_loss: 0.5314 - val_accuracy: 0.8290\n",
      "Epoch 64/100\n",
      "5/5 [==============================] - 1s 143ms/step - loss: 0.0090 - accuracy: 1.0000 - val_loss: 0.5361 - val_accuracy: 0.8268\n",
      "Epoch 65/100\n",
      "5/5 [==============================] - 1s 143ms/step - loss: 0.0098 - accuracy: 1.0000 - val_loss: 0.5253 - val_accuracy: 0.8312\n",
      "Epoch 66/100\n",
      "5/5 [==============================] - 1s 167ms/step - loss: 0.0122 - accuracy: 1.0000 - val_loss: 0.5099 - val_accuracy: 0.8355\n",
      "Epoch 67/100\n",
      "5/5 [==============================] - 1s 145ms/step - loss: 0.0072 - accuracy: 1.0000 - val_loss: 0.5047 - val_accuracy: 0.8365\n",
      "Epoch 68/100\n",
      "5/5 [==============================] - 1s 150ms/step - loss: 0.0199 - accuracy: 0.9933 - val_loss: 0.5277 - val_accuracy: 0.8365\n",
      "Epoch 69/100\n",
      "5/5 [==============================] - 1s 144ms/step - loss: 0.0278 - accuracy: 0.9933 - val_loss: 0.6427 - val_accuracy: 0.8117\n",
      "Epoch 70/100\n",
      "5/5 [==============================] - 1s 145ms/step - loss: 0.0151 - accuracy: 1.0000 - val_loss: 0.6115 - val_accuracy: 0.8215\n",
      "Epoch 71/100\n",
      "5/5 [==============================] - 1s 146ms/step - loss: 0.0086 - accuracy: 1.0000 - val_loss: 0.5306 - val_accuracy: 0.8400\n",
      "Epoch 72/100\n",
      "5/5 [==============================] - 1s 146ms/step - loss: 0.0074 - accuracy: 1.0000 - val_loss: 0.5066 - val_accuracy: 0.8383\n",
      "Epoch 73/100\n",
      "5/5 [==============================] - 1s 146ms/step - loss: 0.0203 - accuracy: 0.9933 - val_loss: 0.5198 - val_accuracy: 0.8397\n",
      "Epoch 74/100\n",
      "5/5 [==============================] - 1s 148ms/step - loss: 0.0152 - accuracy: 0.9933 - val_loss: 0.5386 - val_accuracy: 0.8343\n"
     ]
    }
   ],
   "source": [
    "hist = model.fit(\n",
    "    X_train, Y_train,\n",
    "    validation_data=(X_test, Y_test),\n",
    "    batch_size=32,\n",
    "    epochs=100,\n",
    "    callbacks=[early_stopping]\n",
    ")"
   ]
  },
  {
   "cell_type": "code",
   "execution_count": 234,
   "metadata": {},
   "outputs": [],
   "source": [
    "# Plotting the training and validation loss\n",
    "# plt.figure(figsize=(10, 7))\n",
    "# plt.plot(hist.history['loss'], label='Training Loss')\n",
    "# plt.plot(hist.history['val_loss'], label='Validation Loss')\n",
    "# plt.xlabel('Epochs')\n",
    "# plt.ylabel('Loss')\n",
    "# plt.title('Training and Validation Loss')\n",
    "# plt.legend()\n",
    "# plt.show()\n"
   ]
  },
  {
   "cell_type": "code",
   "execution_count": 235,
   "metadata": {},
   "outputs": [
    {
     "data": {
      "image/png": "[encoded data removed]",
      "text/plain": [
       "<Figure size 1000x700 with 1 Axes>"
      ]
     },
     "metadata": {},
     "output_type": "display_data"
    }
   ],
   "source": [
    "#plot the training and validation accuracy\n",
    "plt.figure(figsize=(10, 7))\n",
    "plt.plot(hist.history['accuracy'], label='Training Accuracy')\n",
    "plt.plot(hist.history['val_accuracy'], label='Validation Accuracy')\n",
    "plt.xlabel('Epochs')\n",
    "plt.ylabel('Accuracy')\n",
    "plt.title('Training and Validation Accuracy')\n",
    "plt.legend()\n",
    "plt.show()"
   ]
  },
  {
   "cell_type": "code",
   "execution_count": 236,
   "metadata": {},
   "outputs": [
    {
     "name": "stdout",
     "output_type": "stream",
     "text": [
      "230/230 [==============================] - 0s 2ms/step\n"
     ]
    }
   ],
   "source": [
    "Y_predict = model.predict(X_test)\n",
    "Y_predict = np.argmax(Y_predict, axis=1)\n",
    "\n",
    "Y_test_flat = np.argmax(Y_test, axis=1)\n"
   ]
  },
  {
   "cell_type": "code",
   "execution_count": 237,
   "metadata": {},
   "outputs": [
    {
     "name": "stdout",
     "output_type": "stream",
     "text": [
      "                   precision    recall  f1-score   support\n",
      "\n",
      "Benjamin_Netanyau       0.71      0.87      0.78      1469\n",
      " Jens_Stoltenberg       0.88      0.60      0.72      1470\n",
      "    Julia_Gillard       0.94      0.79      0.86      1475\n",
      "  Magaret_Tarcher       0.79      0.95      0.86      1468\n",
      "   Nelson_Mandela       0.93      0.99      0.96      1469\n",
      "\n",
      "         accuracy                           0.84      7351\n",
      "        macro avg       0.85      0.84      0.84      7351\n",
      "     weighted avg       0.85      0.84      0.84      7351\n",
      "\n"
     ]
    }
   ],
   "source": [
    "#classification report\n",
    "class_report = classification_report(Y_test_flat, Y_predict, target_names=speaker_folders)\n",
    "print(class_report)\n"
   ]
  },
  {
   "cell_type": "code",
   "execution_count": 238,
   "metadata": {},
   "outputs": [
    {
     "data": {
      "image/png": "[encoded data removed]",
      "text/plain": [
       "<Figure size 1000x700 with 2 Axes>"
      ]
     },
     "metadata": {},
     "output_type": "display_data"
    }
   ],
   "source": [
    "# Plotting the confusion matrix\n",
    "plt.figure(figsize=(10, 7))\n",
    "sns.heatmap(confusion_matrix(Y_test_flat, Y_predict), annot=True, fmt='d', xticklabels=speaker_folders, yticklabels=speaker_folders)\n",
    "plt.xlabel('Predicted')\n",
    "plt.ylabel('Actual')\n",
    "plt.title('Confusion Matrix')\n",
    "plt.show()\n"
   ]
  }
 ],
 "metadata": {
  "kernelspec": {
   "display_name": "working_with_audio",
   "language": "python",
   "name": "python3"
  },
  "language_info": {
   "codemirror_mode": {
    "name": "ipython",
    "version": 3
   },
   "file_extension": ".py",
   "mimetype": "text/x-python",
   "name": "python",
   "nbconvert_exporter": "python",
   "pygments_lexer": "ipython3",
   "version": "3.10.14"
  }
 },
 "nbformat": 4,
 "nbformat_minor": 2
}
