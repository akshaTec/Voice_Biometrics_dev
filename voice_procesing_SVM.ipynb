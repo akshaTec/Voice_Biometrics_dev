{
 "cells": [
  {
   "cell_type": "code",
   "execution_count": 1,
   "metadata": {},
   "outputs": [],
   "source": [
    "import librosa\n",
    "import numpy as np\n",
    "import tensorflow as tf\n",
    "from sklearn.preprocessing import LabelEncoder\n",
    "from sklearn.model_selection import train_test_split\n",
    "from tensorflow.keras.models import Sequential\n",
    "from tensorflow.keras.layers import Dense, Dropout\n",
    "import os"
   ]
  },
  {
   "cell_type": "code",
   "execution_count": 2,
   "metadata": {},
   "outputs": [],
   "source": [
    "import soundfile as sf\n",
    "import matplotlib.pyplot as plt\n"
   ]
  },
  {
   "cell_type": "markdown",
   "metadata": {},
   "source": [
    "## Combine 120 sound files to one"
   ]
  },
  {
   "cell_type": "code",
   "execution_count": 3,
   "metadata": {},
   "outputs": [],
   "source": [
    "num_file_to_combine = 120\n",
    "\n",
    "datset_path = \"16000_pcm_speeches\"\n",
    "output_path = \"combined_voice\"\n",
    "\n",
    "speaker_folders = [\n",
    "    \"Benjamin_Netanyau\",\n",
    "    \"Jens_Stoltenberg\",\n",
    "    \"Julia_Gillard\",\n",
    "    \"Magaret_Tarcher\",\n",
    "    \"Nelson_Mandela\"\n",
    "]\n",
    "\n",
    "# for speaker_f in speaker_folders:\n",
    "#     speaker_path = os.path.join(datset_path, speaker_f)\n",
    "    \n",
    "#     #list the first 120 .wav files\n",
    "#     wave_files = [f\"{i}.wav\" for i in range(num_file_to_combine)]\n",
    "\n",
    "#     #combine the first 120 .wav files\n",
    "#     combined_wave = []\n",
    "#     for wave_file in wave_files:\n",
    "#         wave, sr = librosa.load(os.path.join(speaker_path, wave_file), sr=None)\n",
    "#         combined_wave.extend(wave)\n",
    "\n",
    "#     #save the combined wave\n",
    "#     speaker_output_path = os.path.join(output_path, f\"{speaker_f}_combined.wav\")\n",
    "#     sf.write(speaker_output_path, np.array(combined_wave), sr)\n"
   ]
  },
  {
   "cell_type": "markdown",
   "metadata": {},
   "source": [
    "## Data visualization"
   ]
  },
  {
   "cell_type": "code",
   "execution_count": 4,
   "metadata": {},
   "outputs": [],
   "source": [
    "# import librosa.display\n",
    "\n",
    "# def plot_audio_feature(audio_path):\n",
    "#     y, sr = librosa.load(audio_path, sr=None)\n",
    "\n",
    "#     speaker_name = os.path.basename(audio_path).split('_')[0]\n",
    "\n",
    "\n",
    "#     plt.figure(figsize=(15, 10))\n",
    "#     plt.subplot(3, 1, 1)\n",
    "#     librosa.display.waveshow(y, sr=sr)\n",
    "#     plt.title(f'Waveform - {speaker_name}')\n",
    "\n",
    "#     plt.subplot(3, 1, 2)\n",
    "#     mfccs = librosa.feature.mfcc(y=y, sr=sr, n_mfcc=13)\n",
    "#     librosa.display.specshow(mfccs, sr=sr, x_axis='time')\n",
    "#     plt.title(f'MFCC - {speaker_name}')\n",
    "\n",
    "#     plt.subplot(3, 1, 3)\n",
    "#     mel_spectrogram = librosa.feature.melspectrogram(y=y, sr=sr)\n",
    "#     librosa.display.specshow(mel_spectrogram, sr=sr, x_axis='time')\n",
    "#     plt.title(f'Mel Spectrogram - {speaker_name}')\n",
    "\n",
    "#     plt.tight_layout()\n",
    "#     plt.show()\n",
    "\n",
    "\n",
    "# audio_path= [\n",
    "#     \"combined_voice\\Benjamin_Netanyau_combined.wav\",\n",
    "#     \"combined_voice\\Jens_Stoltenberg_combined.wav\",\n",
    "# ]\n",
    "\n",
    "\n",
    "# for audio in audio_path:\n",
    "#     plot_audio_feature(audio)\n",
    "    \n"
   ]
  },
  {
   "cell_type": "markdown",
   "metadata": {},
   "source": [
    "## Feature Extraction"
   ]
  },
  {
   "cell_type": "code",
   "execution_count": 5,
   "metadata": {},
   "outputs": [],
   "source": [
    "from sklearn.preprocessing import StandardScaler"
   ]
  },
  {
   "cell_type": "code",
   "execution_count": 6,
   "metadata": {},
   "outputs": [],
   "source": [
    "\n",
    "def feature_extraction(parent_dir, speaker_folders):\n",
    "    features = []\n",
    "    labels = []\n",
    "\n",
    "    for i, speaker in enumerate(speaker_folders):\n",
    "        speaker_folder_path = os.path.join(parent_dir, speaker)\n",
    "\n",
    "        for file_name in os.listdir(speaker_folder_path):\n",
    "            if file_name.endswith(\".wav\"):\n",
    "                file_path = os.path.join(speaker_folder_path,file_name)\n",
    "                audio , sr = librosa.load(file_path , sr= None, duration=1)\n",
    "                mfccs = librosa.feature.mfcc(y=audio, sr = sr, n_mfcc= 13) \n",
    "                ## NO. OF MFCCS WE NEED\n",
    "                mfccs = StandardScaler().fit_transform(mfccs)\n",
    "                features.append(mfccs.T)\n",
    "                labels.append(i)\n",
    "\n",
    "    \n",
    "    return np.array(features), np.array(labels)\n",
    "\n",
    "\n",
    "X , Y = feature_extraction(datset_path, speaker_folders)\n"
   ]
  },
  {
   "cell_type": "code",
   "execution_count": 7,
   "metadata": {},
   "outputs": [
    {
     "name": "stdout",
     "output_type": "stream",
     "text": [
      "(7501, 32, 13)\n",
      "(7501,)\n",
      "(32, 13)\n"
     ]
    }
   ],
   "source": [
    "#what was the time duration of the audio file in seconds\n",
    "\n",
    "print(X.shape)\n",
    "print(Y.shape)\n",
    "\n",
    "print(X[0].shape)\n",
    "\n",
    "\n"
   ]
  },
  {
   "cell_type": "code",
   "execution_count": 8,
   "metadata": {},
   "outputs": [
    {
     "name": "stdout",
     "output_type": "stream",
     "text": [
      "[[[-3.4641016   0.2887172   0.28871483 ...  0.2886389   0.2886224\n",
      "    0.2886044 ]\n",
      "  [-3.4641016   0.2886977   0.28869638 ...  0.2886557   0.28864682\n",
      "    0.2886371 ]\n",
      "  [-3.4641018   0.28869462  0.28869352 ...  0.28865835  0.2886507\n",
      "    0.28864226]\n",
      "  ...\n",
      "  [-3.3067386   1.0927988   0.09423477 ... -0.01679934  0.06416836\n",
      "   -0.01576676]\n",
      "  [-3.302511    1.1125711   0.11559542 ...  0.02531367  0.07413579\n",
      "   -0.01616776]\n",
      "  [-3.320979    1.0881165   0.1504413  ...  0.02759937  0.14088126\n",
      "    0.07228283]]\n",
      "\n",
      " [[-3.3293808   1.1152196   0.15280247 ...  0.04381237  0.10148772\n",
      "    0.04075786]\n",
      "  [-3.2763088   1.216366    0.11081342 ...  0.0041197   0.03439333\n",
      "    0.02838666]\n",
      "  [-3.2889938   1.1915864   0.14888133 ...  0.00728869  0.05132583\n",
      "    0.04958135]\n",
      "  ...\n",
      "  [-0.62854373  2.531994   -2.2210534  ...  0.2865067   0.04549608\n",
      "   -0.5743097 ]\n",
      "  [-0.30689606  2.5076501  -2.3356664  ...  0.04502293 -0.01954037\n",
      "   -0.61852497]\n",
      "  [-0.8376341   2.6435595  -1.965699   ... -0.21581315 -0.09344908\n",
      "   -0.22761108]]\n",
      "\n",
      " [[-3.391186    0.85193     0.15204723 ...  0.10529847  0.11792437\n",
      "    0.07892857]\n",
      "  [-3.3640027   0.9392708   0.13803728 ...  0.08801639  0.14030038\n",
      "    0.05313504]\n",
      "  [-3.3617914   0.9606065   0.15223233 ...  0.12215262  0.10986522\n",
      "    0.0252382 ]\n",
      "  ...\n",
      "  [-0.5299546   3.2551696  -1.1793699  ...  0.15022968 -0.09319184\n",
      "   -0.42619193]\n",
      "  [-0.49791047  3.1072626  -1.488032   ...  0.19137223 -0.22295104\n",
      "   -0.46727   ]\n",
      "  [-1.1591502   2.9403806  -1.4907947  ...  0.34166092 -0.12188562\n",
      "   -0.52411866]]\n",
      "\n",
      " ...\n",
      "\n",
      " [[-2.7843096   0.8465393   1.7510035  ... -0.31848827 -0.4586052\n",
      "   -0.43417627]\n",
      "  [-1.0817568   1.1900872   2.1051202  ... -0.20705909 -0.83582634\n",
      "   -0.47524357]\n",
      "  [-0.9410658   1.0625297   1.6936425  ...  0.10115342 -0.66749656\n",
      "   -0.4550564 ]\n",
      "  ...\n",
      "  [-1.3487918   3.0063689   0.68055797 ... -0.32450598 -0.2018265\n",
      "   -0.38193855]\n",
      "  [-0.8215967   3.0960805   0.7066512  ... -0.3150821  -0.06484853\n",
      "   -0.52738357]\n",
      "  [-1.2189155   3.0031497   0.8420327  ... -0.30074903 -0.08541968\n",
      "   -0.5355698 ]]\n",
      "\n",
      " [[-1.6132866   2.8411863   0.48644257 ... -0.2651664  -0.16543137\n",
      "   -0.49040663]\n",
      "  [-1.2665956   2.9363644   0.51032966 ... -0.19753084 -0.31809488\n",
      "   -0.6121043 ]\n",
      "  [-2.0953624   2.6540196   0.67026496 ... -0.07352979 -0.10958463\n",
      "   -0.37256977]\n",
      "  ...\n",
      "  [-2.4784057   0.8403307   2.1022487  ... -0.57866526 -0.3444611\n",
      "   -0.54862785]\n",
      "  [-2.4653552   0.91058457  2.0654683  ... -0.5492167  -0.2606853\n",
      "   -0.54941946]\n",
      "  [-2.7293272   0.8806917   1.8577981  ... -0.41077608 -0.29948792\n",
      "   -0.33072928]]\n",
      "\n",
      " [[-2.9449472   0.71313244  1.7835549  ... -0.17295386 -0.01841931\n",
      "   -0.30061665]\n",
      "  [-2.535658    0.8114947   2.1520565  ... -0.4341771  -0.14187329\n",
      "   -0.47331777]\n",
      "  [-2.4831238   0.99069846  2.0988884  ... -0.6372918  -0.25400728\n",
      "   -0.59772944]\n",
      "  ...\n",
      "  [-2.33813     1.0614202   1.9248087  ... -0.8143146  -0.41907543\n",
      "   -0.5688187 ]\n",
      "  [-2.1957178   1.1309824   1.9723836  ... -0.7473016  -0.5169136\n",
      "   -0.59678316]\n",
      "  [-2.5235083   0.98432183  1.7935514  ... -0.47970805 -0.3282281\n",
      "   -0.41254735]]]\n"
     ]
    }
   ],
   "source": [
    "print(X)"
   ]
  },
  {
   "cell_type": "markdown",
   "metadata": {},
   "source": [
    "## Train n Test split"
   ]
  },
  {
   "cell_type": "code",
   "execution_count": 9,
   "metadata": {},
   "outputs": [],
   "source": [
    "from sklearn.preprocessing import LabelEncoder\n"
   ]
  },
  {
   "cell_type": "code",
   "execution_count": 10,
   "metadata": {},
   "outputs": [
    {
     "data": {
      "text/plain": [
       "(7501, 32, 13)"
      ]
     },
     "execution_count": 10,
     "metadata": {},
     "output_type": "execute_result"
    }
   ],
   "source": [
    "X.shape"
   ]
  },
  {
   "cell_type": "code",
   "execution_count": 11,
   "metadata": {},
   "outputs": [
    {
     "name": "stdout",
     "output_type": "stream",
     "text": [
      "Training Data Shape: (150, 32, 13)\n",
      "Test Data Shape: (7351, 32, 13)\n"
     ]
    }
   ],
   "source": [
    "\n",
    "label_encoder = LabelEncoder()\n",
    "Y= label_encoder.fit_transform(Y)\n",
    "label_encoder.classes_= np.array(speaker_folders)\n",
    "\n",
    "X_train, X_test , Y_train , Y_test = train_test_split(X,Y ,test_size= 0.98 , random_state= 42)\n",
    "\n",
    "print(\"Training Data Shape:\", X_train.shape)\n",
    "print(\"Test Data Shape:\", X_test.shape)"
   ]
  },
  {
   "cell_type": "markdown",
   "metadata": {},
   "source": [
    "## Trying a basic SVM model"
   ]
  },
  {
   "cell_type": "code",
   "execution_count": 12,
   "metadata": {},
   "outputs": [
    {
     "data": {
      "text/html": [
       "<style>#sk-container-id-1 {color: black;}#sk-container-id-1 pre{padding: 0;}#sk-container-id-1 div.sk-toggleable {background-color: white;}#sk-container-id-1 label.sk-toggleable__label {cursor: pointer;display: block;width: 100%;margin-bottom: 0;padding: 0.3em;box-sizing: border-box;text-align: center;}#sk-container-id-1 label.sk-toggleable__label-arrow:before {content: \"▸\";float: left;margin-right: 0.25em;color: #696969;}#sk-container-id-1 label.sk-toggleable__label-arrow:hover:before {color: black;}#sk-container-id-1 div.sk-estimator:hover label.sk-toggleable__label-arrow:before {color: black;}#sk-container-id-1 div.sk-toggleable__content {max-height: 0;max-width: 0;overflow: hidden;text-align: left;background-color: #f0f8ff;}#sk-container-id-1 div.sk-toggleable__content pre {margin: 0.2em;color: black;border-radius: 0.25em;background-color: #f0f8ff;}#sk-container-id-1 input.sk-toggleable__control:checked~div.sk-toggleable__content {max-height: 200px;max-width: 100%;overflow: auto;}#sk-container-id-1 input.sk-toggleable__control:checked~label.sk-toggleable__label-arrow:before {content: \"▾\";}#sk-container-id-1 div.sk-estimator input.sk-toggleable__control:checked~label.sk-toggleable__label {background-color: #d4ebff;}#sk-container-id-1 div.sk-label input.sk-toggleable__control:checked~label.sk-toggleable__label {background-color: #d4ebff;}#sk-container-id-1 input.sk-hidden--visually {border: 0;clip: rect(1px 1px 1px 1px);clip: rect(1px, 1px, 1px, 1px);height: 1px;margin: -1px;overflow: hidden;padding: 0;position: absolute;width: 1px;}#sk-container-id-1 div.sk-estimator {font-family: monospace;background-color: #f0f8ff;border: 1px dotted black;border-radius: 0.25em;box-sizing: border-box;margin-bottom: 0.5em;}#sk-container-id-1 div.sk-estimator:hover {background-color: #d4ebff;}#sk-container-id-1 div.sk-parallel-item::after {content: \"\";width: 100%;border-bottom: 1px solid gray;flex-grow: 1;}#sk-container-id-1 div.sk-label:hover label.sk-toggleable__label {background-color: #d4ebff;}#sk-container-id-1 div.sk-serial::before {content: \"\";position: absolute;border-left: 1px solid gray;box-sizing: border-box;top: 0;bottom: 0;left: 50%;z-index: 0;}#sk-container-id-1 div.sk-serial {display: flex;flex-direction: column;align-items: center;background-color: white;padding-right: 0.2em;padding-left: 0.2em;position: relative;}#sk-container-id-1 div.sk-item {position: relative;z-index: 1;}#sk-container-id-1 div.sk-parallel {display: flex;align-items: stretch;justify-content: center;background-color: white;position: relative;}#sk-container-id-1 div.sk-item::before, #sk-container-id-1 div.sk-parallel-item::before {content: \"\";position: absolute;border-left: 1px solid gray;box-sizing: border-box;top: 0;bottom: 0;left: 50%;z-index: -1;}#sk-container-id-1 div.sk-parallel-item {display: flex;flex-direction: column;z-index: 1;position: relative;background-color: white;}#sk-container-id-1 div.sk-parallel-item:first-child::after {align-self: flex-end;width: 50%;}#sk-container-id-1 div.sk-parallel-item:last-child::after {align-self: flex-start;width: 50%;}#sk-container-id-1 div.sk-parallel-item:only-child::after {width: 0;}#sk-container-id-1 div.sk-dashed-wrapped {border: 1px dashed gray;margin: 0 0.4em 0.5em 0.4em;box-sizing: border-box;padding-bottom: 0.4em;background-color: white;}#sk-container-id-1 div.sk-label label {font-family: monospace;font-weight: bold;display: inline-block;line-height: 1.2em;}#sk-container-id-1 div.sk-label-container {text-align: center;}#sk-container-id-1 div.sk-container {/* jupyter's `normalize.less` sets `[hidden] { display: none; }` but bootstrap.min.css set `[hidden] { display: none !important; }` so we also need the `!important` here to be able to override the default hidden behavior on the sphinx rendered scikit-learn.org. See: https://github.com/scikit-learn/scikit-learn/issues/21755 */display: inline-block !important;position: relative;}#sk-container-id-1 div.sk-text-repr-fallback {display: none;}</style><div id=\"sk-container-id-1\" class=\"sk-top-container\"><div class=\"sk-text-repr-fallback\"><pre>SVC()</pre><b>In a Jupyter environment, please rerun this cell to show the HTML representation or trust the notebook. <br />On GitHub, the HTML representation is unable to render, please try loading this page with nbviewer.org.</b></div><div class=\"sk-container\" hidden><div class=\"sk-item\"><div class=\"sk-estimator sk-toggleable\"><input class=\"sk-toggleable__control sk-hidden--visually\" id=\"sk-estimator-id-1\" type=\"checkbox\" checked><label for=\"sk-estimator-id-1\" class=\"sk-toggleable__label sk-toggleable__label-arrow\">SVC</label><div class=\"sk-toggleable__content\"><pre>SVC()</pre></div></div></div></div></div>"
      ],
      "text/plain": [
       "SVC()"
      ]
     },
     "execution_count": 12,
     "metadata": {},
     "output_type": "execute_result"
    }
   ],
   "source": [
    "from sklearn.svm import SVC\n",
    "\n",
    "X_train_flat= X_train.reshape(X_train.shape[0],-1)\n",
    "X_test_flat= X_test.reshape(X_test.shape[0],-1)\n",
    "\n",
    "\n",
    "svm_classifier = SVC(kernel='rbf', C=1.0, gamma='scale')\n",
    "svm_classifier.fit(X_train_flat, Y_train)\n",
    "\n"
   ]
  },
  {
   "cell_type": "code",
   "execution_count": 13,
   "metadata": {},
   "outputs": [
    {
     "name": "stdout",
     "output_type": "stream",
     "text": [
      "              precision    recall  f1-score   support\n",
      "\n",
      "           0       0.52      0.55      0.53      1391\n",
      "           1       0.61      0.61      0.61      1479\n",
      "           2       0.76      0.95      0.84      1189\n",
      "           3       0.79      0.69      0.74      1659\n",
      "           4       0.99      0.89      0.94      1633\n",
      "\n",
      "    accuracy                           0.73      7351\n",
      "   macro avg       0.73      0.74      0.73      7351\n",
      "weighted avg       0.74      0.73      0.74      7351\n",
      "\n"
     ]
    }
   ],
   "source": [
    "from sklearn.metrics import accuracy_score, classification_report, confusion_matrix\n",
    "\n",
    "Y_predict = svm_classifier.predict(X_test_flat)\n",
    "\n",
    "class_report = classification_report(Y_predict,Y_test)\n",
    "print(class_report)\n"
   ]
  },
  {
   "cell_type": "code",
   "execution_count": 14,
   "metadata": {},
   "outputs": [
    {
     "name": "stdout",
     "output_type": "stream",
     "text": [
      "[[ 765  429   12  263    0]\n",
      " [ 414  898   42  108    8]\n",
      " [  27   22 1124  135  167]\n",
      " [ 185  130    0 1153    0]\n",
      " [   0    0   11    0 1458]]\n"
     ]
    }
   ],
   "source": [
    "confusion_matrix = confusion_matrix(Y_test, Y_predict)\n",
    "print(confusion_matrix)"
   ]
  },
  {
   "cell_type": "code",
   "execution_count": 15,
   "metadata": {},
   "outputs": [
    {
     "data": {
      "image/png": "[encoded data removed]",
      "text/plain": [
       "<Figure size 1000x700 with 2 Axes>"
      ]
     },
     "metadata": {},
     "output_type": "display_data"
    }
   ],
   "source": [
    "import seaborn as sns\n",
    "\n",
    "# Plotting the confusion matrix\n",
    "plt.figure(figsize=(10, 7))\n",
    "sns.heatmap(confusion_matrix, annot=True, fmt='d', xticklabels=speaker_folders, yticklabels=speaker_folders)\n",
    "plt.xlabel('Predicted')\n",
    "plt.ylabel('Actual')\n",
    "plt.title('Confusion Matrix')\n",
    "\n",
    "plt.show()"
   ]
  }
 ],
 "metadata": {
  "kernelspec": {
   "display_name": "working_with_audio",
   "language": "python",
   "name": "python3"
  },
  "language_info": {
   "codemirror_mode": {
    "name": "ipython",
    "version": 3
   },
   "file_extension": ".py",
   "mimetype": "text/x-python",
   "name": "python",
   "nbconvert_exporter": "python",
   "pygments_lexer": "ipython3",
   "version": "3.10.14"
  }
 },
 "nbformat": 4,
 "nbformat_minor": 2
}
